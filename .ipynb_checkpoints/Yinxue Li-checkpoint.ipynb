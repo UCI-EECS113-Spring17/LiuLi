{
 "cells": [
  {
   "cell_type": "code",
   "execution_count": 6,
   "metadata": {
    "collapsed": false
   },
   "outputs": [],
   "source": [
    "from time import sleep\n",
    "from pynq.board import LED\n",
    "from pynq.board import Button\n",
    "from pynq.board import Switch\n",
    "def turnOffLed():\n",
    "    for i in range(4):\n",
    "        LED(i).off()\n",
    "    return;\n",
    "def switchSys(ledOn):\n",
    "    if (ledOn):\n",
    "        return False\n",
    "    return True\n",
    "\n",
    "running = True\n",
    "ledOn = True\n",
    "while (running):\n",
    "    turnOffLed()\n",
    "    if (ledOn):\n",
    "        LED((Switch(1).read())*2+Switch(0).read()).on()\n",
    "    if ((Button(0).read()==1) | (Button(1).read()==1) | (Button(2).read()==1) | (Button(3).read()==1)):\n",
    "        ledOn = switchSys(ledOn)\n",
    "    if ((Button(0).read()==1) & (Button(1).read()==1)):\n",
    "        running = False\n",
    "    sleep(0.2)\n",
    "turnOffLed()"
   ]
  },
  {
   "cell_type": "code",
   "execution_count": null,
   "metadata": {
    "collapsed": true
   },
   "outputs": [],
   "source": []
  }
 ],
 "metadata": {
  "kernelspec": {
   "display_name": "Python 3",
   "language": "python",
   "name": "python3"
  },
  "language_info": {
   "codemirror_mode": {
    "name": "ipython",
    "version": 3
   },
   "file_extension": ".py",
   "mimetype": "text/x-python",
   "name": "python",
   "nbconvert_exporter": "python",
   "pygments_lexer": "ipython3",
   "version": "3.4.3+"
  }
 },
 "nbformat": 4,
 "nbformat_minor": 1
}
