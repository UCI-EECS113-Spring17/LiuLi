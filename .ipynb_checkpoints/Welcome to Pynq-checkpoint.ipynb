{
 "cells": [
  {
   "cell_type": "markdown",
   "metadata": {
    "collapsed": true
   },
   "source": [
    "# Welcome to Pynq\n",
    "\n",
    "## Project webpage\n",
    "You can find full details on on <a href=\"http://www.pynq.io\">Pynq project webpage </a>\n",
    "\n",
    "## Documentation\n",
    "Please see the <a href=\"http://pynq.readthedocs.io\">latest Pynq Documentation on readthedocs</a>.  \n",
    "\n",
    "You can also find a <a href=\"docs/build/html/index.html\">local copy of the \n",
    "Pynq Documentation</a> on this board. \n",
    "\n",
    "Please note that this may not be as up to date as the readthedocs version. \n",
    "\n",
    "## GitHub\n",
    "You can find the full Pynq source code on the <a href=\"https://github.com/Xilinx/PYNQ\">Pynq GitHub</a>\n",
    "\n",
    "## Getting started\n",
    "You can find some getting started notebooks and example notebooks in the corresponding folders in this direction. \n",
    "\n",
    "*Getting started* covers Jupyter Notebooks, and basics of the Pynq project, and the PYNQ-Z1 board. The *examples* notebooks include examples for Pmod, Grove, and Arduino peripherals, and guides for setting up Wifi, using webcams, and using the HDMI on the board.\n",
    "\n",
    "## Support\n",
    "For questions, or support, go to the support forum on the <a href=\"www.pynq.io\">Pynq project webpage </a>\n",
    "\n"
   ]
  }
 ],
 "metadata": {
  "kernelspec": {
   "display_name": "Python 3",
   "language": "python",
   "name": "python3"
  },
  "language_info": {
   "codemirror_mode": {
    "name": "ipython",
    "version": 3
   },
   "file_extension": ".py",
   "mimetype": "text/x-python",
   "name": "python",
   "nbconvert_exporter": "python",
   "pygments_lexer": "ipython3",
   "version": "3.4.3+"
  }
 },
 "nbformat": 4,
 "nbformat_minor": 0
}
