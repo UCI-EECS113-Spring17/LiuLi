{
 "cells": [
  {
   "cell_type": "code",
   "execution_count": 1,
   "metadata": {
    "collapsed": false
   },
   "outputs": [],
   "source": [
    "from pynq import Overlay\n",
    "from time import sleep\n",
    "from pynq.board import LED\n",
    "from pynq.board import RGBLED\n",
    "from pynq.board import Button\n",
    "from pynq.board import Switch\n",
    "Overlay(\"base.bit\").download()\n",
    "\n",
    "###Clear all leds\n",
    "for i in range(4):\n",
    "    LED(i).off()\n",
    "###Initialize\n",
    "off=0\n",
    "\n",
    "###Loop\n",
    "while(off==0):\n",
    "    if((Switch(0).read()==0) & (Switch(1).read()==0)):\n",
    "        for i in range(4):\n",
    "            LED(i).off()\n",
    "        LED(0).on()\n",
    "    if((Switch(0).read()==1) & (Switch(1).read()==0)):\n",
    "        for i in range(4):\n",
    "            LED(i).off()\n",
    "        LED(1).on()    \n",
    "    if((Switch(0).read()==0) & (Switch(1).read()==1)):\n",
    "        for i in range(4):\n",
    "            LED(i).off()\n",
    "        LED(2).on()\n",
    "    if((Switch(0).read()==1) & (Switch(1).read()==1)):\n",
    "        for i in range(4):\n",
    "            LED(i).off()\n",
    "        LED(3).on()\n",
    "    if((Button(0).read()==1) | (Button(1).read()==1) | (Button(2).read()==1) | (Button(3).read()==1)):\n",
    "        off=1\n",
    "\n",
    "for i in range(4):\n",
    "    LED(i).off()\n",
    "del off\n",
    "        "
   ]
  },
  {
   "cell_type": "code",
   "execution_count": null,
   "metadata": {
    "collapsed": true
   },
   "outputs": [],
   "source": []
  }
 ],
 "metadata": {
  "kernelspec": {
   "display_name": "Python 3",
   "language": "python",
   "name": "python3"
  },
  "language_info": {
   "codemirror_mode": {
    "name": "ipython",
    "version": 3
   },
   "file_extension": ".py",
   "mimetype": "text/x-python",
   "name": "python",
   "nbconvert_exporter": "python",
   "pygments_lexer": "ipython3",
   "version": "3.4.3+"
  }
 },
 "nbformat": 4,
 "nbformat_minor": 1
}
